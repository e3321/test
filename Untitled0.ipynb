{
  "nbformat": 4,
  "nbformat_minor": 0,
  "metadata": {
    "colab": {
      "provenance": []
    },
    "kernelspec": {
      "name": "python3",
      "display_name": "Python 3"
    },
    "language_info": {
      "name": "python"
    }
  },
  "cells": [
    {
      "cell_type": "code",
      "execution_count": null,
      "metadata": {
        "colab": {
          "base_uri": "https://localhost:8080/"
        },
        "id": "crmvFh5A7KvQ",
        "outputId": "573c6aba-485f-41d6-89c4-58c01b7a39f6"
      },
      "outputs": [
        {
          "output_type": "stream",
          "name": "stdout",
          "text": [
            "1 x 1=1\n",
            "1 x 2=2\n",
            "1 x 3=3\n",
            "1 x 4=4\n",
            "1 x 5=5\n",
            "1 x 6=6\n",
            "1 x 7=7\n",
            "1 x 8=8\n",
            "1 x 9=9\n",
            "2 x 1=2\n",
            "2 x 2=4\n",
            "2 x 3=6\n",
            "2 x 4=8\n",
            "2 x 5=10\n",
            "2 x 6=12\n",
            "2 x 7=14\n",
            "2 x 8=16\n",
            "2 x 9=18\n",
            "3 x 1=3\n",
            "3 x 2=6\n",
            "3 x 3=9\n",
            "3 x 4=12\n",
            "3 x 5=15\n",
            "3 x 6=18\n",
            "3 x 7=21\n",
            "3 x 8=24\n",
            "3 x 9=27\n",
            "4 x 1=4\n",
            "4 x 2=8\n",
            "4 x 3=12\n",
            "4 x 4=16\n",
            "4 x 5=20\n",
            "4 x 6=24\n",
            "4 x 7=28\n",
            "4 x 8=32\n",
            "4 x 9=36\n",
            "5 x 1=5\n",
            "5 x 2=10\n",
            "5 x 3=15\n",
            "5 x 4=20\n",
            "5 x 5=25\n",
            "5 x 6=30\n",
            "5 x 7=35\n",
            "5 x 8=40\n",
            "5 x 9=45\n",
            "6 x 1=6\n",
            "6 x 2=12\n",
            "6 x 3=18\n",
            "6 x 4=24\n",
            "6 x 5=30\n",
            "6 x 6=36\n",
            "6 x 7=42\n",
            "6 x 8=48\n",
            "6 x 9=54\n",
            "7 x 1=7\n",
            "7 x 2=14\n",
            "7 x 3=21\n",
            "7 x 4=28\n",
            "7 x 5=35\n",
            "7 x 6=42\n",
            "7 x 7=49\n",
            "7 x 8=56\n",
            "7 x 9=63\n",
            "8 x 1=8\n",
            "8 x 2=16\n",
            "8 x 3=24\n",
            "8 x 4=32\n",
            "8 x 5=40\n",
            "8 x 6=48\n",
            "8 x 7=56\n",
            "8 x 8=64\n",
            "8 x 9=72\n",
            "9 x 1=9\n",
            "9 x 2=18\n",
            "9 x 3=27\n",
            "9 x 4=36\n",
            "9 x 5=45\n",
            "9 x 6=54\n",
            "9 x 7=63\n",
            "9 x 8=72\n",
            "9 x 9=81\n"
          ]
        }
      ],
      "source": [
        "for i in range(1,10):\n",
        "   for j in range(1,10):\n",
        "     product = i* j\n",
        "     print(f\"{i} x {j}={product}\")\n"
      ]
    },
    {
      "cell_type": "code",
      "source": [
        "import random\n",
        "target_number=random.randint(1,55)\n",
        "\n",
        "print(\"歡迎參加猜數字遊戲!\")\n",
        "ans = 0\n",
        "while ans ==0:\n",
        "  guess = int(input(\"你的猜測是?\"))\n",
        "  if guess > target_number:\n",
        "    print(\"猜太高\")\n",
        "  elif guess < target_number:\n",
        "    print(\"猜太低\")\n",
        "  else:\n",
        "    print(f\"guess right! the answer is {target_number}\")\n",
        "    ans = 0\n",
        "    break\n",
        "print(\"遊戲結束\")"
      ],
      "metadata": {
        "colab": {
          "base_uri": "https://localhost:8080/"
        },
        "id": "dlpRjkiK-t87",
        "outputId": "660bbc9c-38b3-446a-9cf2-3a3f46545d8e"
      },
      "execution_count": null,
      "outputs": [
        {
          "output_type": "stream",
          "name": "stdout",
          "text": [
            "歡迎參加猜數字遊戲!\n",
            "你的猜測是?19\n",
            "猜太高\n",
            "你的猜測是?16\n",
            "猜太高\n",
            "你的猜測是?11\n",
            "猜太高\n",
            "你的猜測是?10\n",
            "guess right! the answer is 10\n",
            "遊戲結束\n"
          ]
        }
      ]
    },
    {
      "cell_type": "code",
      "source": [
        "prescription = {\n",
        "    '名稱': '補陽還五湯',\n",
        "    '出典': '醫林改錯',\n",
        "    '處方': {\n",
        "        '黃耆': 20,\n",
        "        '歸尾': 1,\n",
        "        '赤芍': 1,\n",
        "        '地龍': 0.5,\n",
        "        '川芎': 0.5,\n",
        "        '桃仁': 0.5,\n",
        "        '紅花': 0.5\n",
        "    },\n",
        "    '效能': '補氣、活血、通絡',\n",
        "    '適應症': ['半身不遂', '口眼歪斜', '語言蹇澀', '中風後遺症']\n",
        "}\n",
        "while True:\n",
        "    query = input(\"\\n您想查詢什麼？(藥方名稱/出典/處方/效能/適應症/退出查詢)：\")\n",
        "\n",
        "    if query == \"藥方名稱\":\n",
        "        print(f\"{prescription['名稱']}\")\n",
        "    elif query == \"出典\":\n",
        "        print(f\"{prescription['名稱']}的出典為:{prescription['出典']}\")\n",
        "    elif query == \"適應症\":\n",
        "        print(f\"{prescription['名稱']}的適應症有:\")\n",
        "        for symptom in prescription['適應症']:\n",
        "            print(symptom)\n",
        "    elif query == \"處方\":\n",
        "        total_weight = sum(prescription['處方'].values())\n",
        "        print(f\"{prescription['名稱']}的處方為:\")\n",
        "        for medicine, weight in prescription['處方'].items():\n",
        "            print(f\"{medicine}：{weight}公克\")\n",
        "        print(f\"總克數為：{total_weight}公克\")\n",
        "    elif query == \"效能\":\n",
        "        print(f\"{prescription['名稱']}的效能是:{prescription['效能']}\")\n",
        "    elif query == \"退出查詢\":\n",
        "        print(\"感謝使用，再見！\")\n",
        "        break\n",
        "    else:\n",
        "        print(\"輸入無效，請重新輸入。\")"
      ],
      "metadata": {
        "id": "96Ca-aBVCrBz",
        "colab": {
          "base_uri": "https://localhost:8080/"
        },
        "outputId": "05b8a0df-bc55-44eb-eec5-4e26c7eda1ca"
      },
      "execution_count": 1,
      "outputs": [
        {
          "output_type": "stream",
          "name": "stdout",
          "text": [
            "\n",
            "您想查詢什麼？(藥方名稱/出典/處方/效能/適應症/退出查詢)：補陽環五湯\n",
            "輸入無效，請重新輸入。\n",
            "\n",
            "您想查詢什麼？(藥方名稱/出典/處方/效能/適應症/退出查詢)：補陽還五湯\n",
            "輸入無效，請重新輸入。\n",
            "\n",
            "您想查詢什麼？(藥方名稱/出典/處方/效能/適應症/退出查詢)：藥方名稱\n",
            "補陽還五湯\n",
            "\n",
            "您想查詢什麼？(藥方名稱/出典/處方/效能/適應症/退出查詢)：出典\n",
            "補陽還五湯的出典為:醫林改錯\n",
            "\n",
            "您想查詢什麼？(藥方名稱/出典/處方/效能/適應症/退出查詢)：效能\n",
            "補陽還五湯的效能是:補氣、活血、通絡\n",
            "\n",
            "您想查詢什麼？(藥方名稱/出典/處方/效能/適應症/退出查詢)：處方\n",
            "補陽還五湯的處方為:\n",
            "黃耆：20公克\n",
            "歸尾：1公克\n",
            "赤芍：1公克\n",
            "地龍：0.5公克\n",
            "川芎：0.5公克\n",
            "桃仁：0.5公克\n",
            "紅花：0.5公克\n",
            "總克數為：24.0公克\n",
            "\n",
            "您想查詢什麼？(藥方名稱/出典/處方/效能/適應症/退出查詢)：適應症\n",
            "補陽還五湯的適應症有:\n",
            "半身不遂\n",
            "口眼歪斜\n",
            "語言蹇澀\n",
            "中風後遺症\n",
            "\n",
            "您想查詢什麼？(藥方名稱/出典/處方/效能/適應症/退出查詢)：退出查詢\n",
            "感謝使用，再見！\n"
          ]
        }
      ]
    }
  ]
}